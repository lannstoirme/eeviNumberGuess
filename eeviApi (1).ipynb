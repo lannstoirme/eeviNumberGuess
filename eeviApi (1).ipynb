{
  "nbformat": 4,
  "nbformat_minor": 0,
  "metadata": {
    "colab": {
      "name": "eeviApi.ipynb",
      "provenance": [],
      "collapsed_sections": []
    },
    "kernelspec": {
      "name": "python3",
      "display_name": "Python 3"
    }
  },
  "cells": [
    {
      "cell_type": "code",
      "metadata": {
        "id": "lC-qFC_QYIxf",
        "colab_type": "code",
        "colab": {}
      },
      "source": [
        "import requests\n",
        "\n",
        "\n"
      ],
      "execution_count": 0,
      "outputs": []
    },
    {
      "cell_type": "code",
      "metadata": {
        "id": "TuTtb-dRYmse",
        "colab_type": "code",
        "outputId": "26eb337e-dd97-4257-86ba-3228ab0a2ca9",
        "colab": {
          "base_uri": "https://localhost:8080/",
          "height": 34
        }
      },
      "source": [
        "requests.get('https://game.eevi.life/hello')"
      ],
      "execution_count": 0,
      "outputs": [
        {
          "output_type": "execute_result",
          "data": {
            "text/plain": [
              "<Response [200]>"
            ]
          },
          "metadata": {
            "tags": []
          },
          "execution_count": 3
        }
      ]
    },
    {
      "cell_type": "code",
      "metadata": {
        "id": "VUrhu74xZxWT",
        "colab_type": "code",
        "outputId": "1f26ed18-4439-4a8b-b3bb-3cbf46629f2a",
        "colab": {
          "base_uri": "https://localhost:8080/",
          "height": 34
        }
      },
      "source": [
        "\n",
        "requests.get('https://game.eevi.life/hello', auth=('eevi applicant', 'love to code'))"
      ],
      "execution_count": 0,
      "outputs": [
        {
          "output_type": "execute_result",
          "data": {
            "text/plain": [
              "<Response [200]>"
            ]
          },
          "metadata": {
            "tags": []
          },
          "execution_count": 5
        }
      ]
    },
    {
      "cell_type": "code",
      "metadata": {
        "id": "gkGq8qy3assv",
        "colab_type": "code",
        "outputId": "ee15da24-4521-4a34-e701-c42bd85f27f5",
        "colab": {
          "base_uri": "https://localhost:8080/",
          "height": 198
        }
      },
      "source": [
        "import requests\n",
        "\n",
        "\n",
        "url = \"https://game.eevi.life/apply\"\n",
        "auth = ('eevi applicant', 'love to code')\n",
        "data = {'PreferredName': 'Lori (Veronica) Woodward', 'EmailAddress': 'veronicalswoodward@gmail.com'}\n",
        "headers = {'Content-type': 'application/json', 'Accept': 'text/plain'}\n",
        "r = requests.post(url, auth, data=json.dumps(data), headers=headers)"
      ],
      "execution_count": 0,
      "outputs": [
        {
          "output_type": "error",
          "ename": "NameError",
          "evalue": "ignored",
          "traceback": [
            "\u001b[0;31m---------------------------------------------------------------------------\u001b[0m",
            "\u001b[0;31mNameError\u001b[0m                                 Traceback (most recent call last)",
            "\u001b[0;32m<ipython-input-10-a8ed6afd506f>\u001b[0m in \u001b[0;36m<module>\u001b[0;34m()\u001b[0m\n\u001b[1;32m      6\u001b[0m \u001b[0mdata\u001b[0m \u001b[0;34m=\u001b[0m \u001b[0;34m{\u001b[0m\u001b[0;34m'PreferredName'\u001b[0m\u001b[0;34m:\u001b[0m \u001b[0;34m'Lori (Veronica) Woodward'\u001b[0m\u001b[0;34m,\u001b[0m \u001b[0;34m'EmailAddress'\u001b[0m\u001b[0;34m:\u001b[0m \u001b[0;34m'veronicalswoodward@gmail.com'\u001b[0m\u001b[0;34m}\u001b[0m\u001b[0;34m\u001b[0m\u001b[0;34m\u001b[0m\u001b[0m\n\u001b[1;32m      7\u001b[0m \u001b[0mheaders\u001b[0m \u001b[0;34m=\u001b[0m \u001b[0;34m{\u001b[0m\u001b[0;34m'Content-type'\u001b[0m\u001b[0;34m:\u001b[0m \u001b[0;34m'application/json'\u001b[0m\u001b[0;34m,\u001b[0m \u001b[0;34m'Accept'\u001b[0m\u001b[0;34m:\u001b[0m \u001b[0;34m'text/plain'\u001b[0m\u001b[0;34m}\u001b[0m\u001b[0;34m\u001b[0m\u001b[0;34m\u001b[0m\u001b[0m\n\u001b[0;32m----> 8\u001b[0;31m \u001b[0mr\u001b[0m \u001b[0;34m=\u001b[0m \u001b[0mrequests\u001b[0m\u001b[0;34m.\u001b[0m\u001b[0mpost\u001b[0m\u001b[0;34m(\u001b[0m\u001b[0murl\u001b[0m\u001b[0;34m,\u001b[0m \u001b[0mauth\u001b[0m\u001b[0;34m,\u001b[0m \u001b[0mdata\u001b[0m\u001b[0;34m=\u001b[0m\u001b[0mjson\u001b[0m\u001b[0;34m.\u001b[0m\u001b[0mdumps\u001b[0m\u001b[0;34m(\u001b[0m\u001b[0mdata\u001b[0m\u001b[0;34m)\u001b[0m\u001b[0;34m,\u001b[0m \u001b[0mheaders\u001b[0m\u001b[0;34m=\u001b[0m\u001b[0mheaders\u001b[0m\u001b[0;34m)\u001b[0m\u001b[0;34m\u001b[0m\u001b[0;34m\u001b[0m\u001b[0m\n\u001b[0m",
            "\u001b[0;31mNameError\u001b[0m: name 'json' is not defined"
          ]
        }
      ]
    },
    {
      "cell_type": "markdown",
      "metadata": {
        "id": "5NwNHnLujfo7",
        "colab_type": "text"
      },
      "source": [
        ""
      ]
    },
    {
      "cell_type": "code",
      "metadata": {
        "id": "Mt1b-LCheJM3",
        "colab_type": "code",
        "outputId": "14ef2ef4-88c9-4e7c-f5b2-5aa1a95fdc43",
        "colab": {
          "base_uri": "https://localhost:8080/",
          "height": 51
        }
      },
      "source": [
        "import requests\n",
        "\n",
        "payload = {'PreferredName': 'Lori (Veronica) Woodward', 'EmailAddress': 'veronicalswoodward@gmail.com'}\n",
        "r = requests.post(\"https://game.eevi.life/apply\", auth = ('eevi applicant', 'love to code'), data=payload)\n",
        "print(r.text)\n",
        "r.status_code"
      ],
      "execution_count": 0,
      "outputs": [
        {
          "output_type": "stream",
          "text": [
            "Sorry, try again.\n"
          ],
          "name": "stdout"
        },
        {
          "output_type": "execute_result",
          "data": {
            "text/plain": [
              "400"
            ]
          },
          "metadata": {
            "tags": []
          },
          "execution_count": 12
        }
      ]
    },
    {
      "cell_type": "code",
      "metadata": {
        "id": "aCaL-aYHfBKc",
        "colab_type": "code",
        "outputId": "cd63803a-f152-4501-ed1e-87980fc8b5e7",
        "colab": {
          "base_uri": "https://localhost:8080/",
          "height": 71
        }
      },
      "source": [
        "import requests\n",
        "import json\n",
        "from requests.auth import HTTPBasicAuth\n",
        "\n",
        "data = {'PreferredName': 'Lori', 'EmailAddress': 'veronicalswoodward@gmail.com'}\n",
        "url = \"https://game.eevi.life/apply\"\n",
        "auth = HTTPBasicAuth('eevi applicant', 'love to code')\n",
        "r = requests.post(url, auth=HTTPBasicAuth('eevi applicant', 'love to code'), json=data)\n",
        "print(r.text)\n",
        "r.status_code\n",
        "\n",
        "\n"
      ],
      "execution_count": 0,
      "outputs": [
        {
          "output_type": "stream",
          "text": [
            "{\"PreferredName\": \"Lori\", \"EmailAddress\": \"veronicalswoodward@gmail.com\", \"ApplicantID\": \"applid-c4d33abb-ba9c-4a6f-a44a-1c2dd6640da1\", \"Message\": \"\\nThanks Lori for applying!\\n\\nPlease make note of your applicant ID, you will need it for the rest of the steps. You can retrieve it at any time by \\nrepeating this step.\\n\\nThe next step is problem solving a simple game.\\n\\n\\n  SIMPLE GAME\\n---------------\\n\\nDescription:\\nI'll pick an integer between 0 and 1000000. You submit guesses and I'll tell you whether you've won or \\nnot, and whether you should try a higher number or a lower number. Other than that, the HTTP responses are not designed \\nto be incredibly helpful.\\n\\nMechanics:\\n  - The game url is at /guess\\n  - All interaction needs the same Basic Auth you used on this step.\\n  - POST to the url with data field ApplicantID to start a new game. You'll get back a GameID.\\n  - PUT to the url with data fields ApplicantID, GameID and Guess to submit a guess. You'll get back fields Won and \\n    HigherLower. When you get Won as True, there will be instructions for the last step.\\n\\n\\nHave fun!\\n\"}\n"
          ],
          "name": "stdout"
        },
        {
          "output_type": "execute_result",
          "data": {
            "text/plain": [
              "200"
            ]
          },
          "metadata": {
            "tags": []
          },
          "execution_count": 21
        }
      ]
    },
    {
      "cell_type": "markdown",
      "metadata": {
        "id": "JXxdg1MtjhlE",
        "colab_type": "text"
      },
      "source": [
        "Pseudocode\n",
        "answer <= 1000000 && guess >=0\n",
        "Guess1 = 0\n",
        "Guess2 = 100000\n",
        "\n",
        "if answer !== Won\n",
        "  continue iterating either higher or lower with guess\n",
        "  "
      ]
    },
    {
      "cell_type": "code",
      "metadata": {
        "id": "-r2XIhZclea5",
        "colab_type": "code",
        "outputId": "01ccd915-0d5c-4eb7-ab15-e46579186d3d",
        "colab": {
          "base_uri": "https://localhost:8080/",
          "height": 34
        }
      },
      "source": [
        "#pseudocode\n",
        "guess1 = 0\n",
        "guess2 = 1000000\n",
        "guess3 = guess2/2\n",
        "\n",
        "print(guess3)"
      ],
      "execution_count": 0,
      "outputs": [
        {
          "output_type": "stream",
          "text": [
            "500000.0\n"
          ],
          "name": "stdout"
        }
      ]
    },
    {
      "cell_type": "code",
      "metadata": {
        "id": "hhTruQbWl3AY",
        "colab_type": "code",
        "outputId": "1af9d94c-8e31-467e-c336-1e6f14bb0dbd",
        "colab": {
          "base_uri": "https://localhost:8080/",
          "height": 71
        }
      },
      "source": [
        "import requests\n",
        "import json\n",
        "from requests.auth import HTTPBasicAuth\n",
        "\n",
        "url = \"https://game.eevi.life/guess\"\n",
        "auth = HTTPBasicAuth('eevi applicant', 'love to code')\n",
        "\n",
        "#initialize guesses\n",
        "guess1 = 0\n",
        "guess2 = 100000\n",
        "guess3 = guess2/2\n",
        "submitguess = guess3\n",
        "\n",
        "data = {'ApplicantID': 'applid-c4d33abb-ba9c-4a6f-a44a-1c2dd6640da1'}\n",
        "r = requests.post(url, auth=HTTPBasicAuth('eevi applicant', 'love to code'), json=data)\n",
        "print(r.text)\n",
        "r.status_code\n",
        "\n"
      ],
      "execution_count": 0,
      "outputs": [
        {
          "output_type": "stream",
          "text": [
            "{\"ApplicantID\": \"applid-c4d33abb-ba9c-4a6f-a44a-1c2dd6640da1\", \"GameID\": \"gameid-4e5926e4-c7f8-4d10-ab5e-83cd23d3fd51\", \"TimeStarted\": \"2019-12-09T03:07:33.373123+00:00\"}\n"
          ],
          "name": "stdout"
        },
        {
          "output_type": "execute_result",
          "data": {
            "text/plain": [
              "200"
            ]
          },
          "metadata": {
            "tags": []
          },
          "execution_count": 26
        }
      ]
    },
    {
      "cell_type": "code",
      "metadata": {
        "id": "-Uko3YbFoLIA",
        "colab_type": "code",
        "outputId": "d2f166a3-ebb4-4ba6-b1be-613f8e834357",
        "colab": {
          "base_uri": "https://localhost:8080/",
          "height": 71
        }
      },
      "source": [
        "import requests\n",
        "import json\n",
        "from requests.auth import HTTPBasicAuth\n",
        "\n",
        "guess = 50000\n",
        "\n",
        "url = \"https://game.eevi.life/guess\"\n",
        "auth = HTTPBasicAuth('eevi applicant', 'love to code')\n",
        "\n",
        "data = {'ApplicantID': 'applid-c4d33abb-ba9c-4a6f-a44a-1c2dd6640da1', 'GameID': 'gameid-4e5926e4-c7f8-4d10-ab5e-83cd23d3fd51', 'Guess': '50000'}\n",
        "r = requests.put(url, auth=HTTPBasicAuth('eevi applicant', 'love to code'), json=data)\n",
        "jsondata = (r.text)\n",
        "print(jsondata)\n",
        "r.status_code"
      ],
      "execution_count": 0,
      "outputs": [
        {
          "output_type": "stream",
          "text": [
            "{\"ApplicantID\": \"applid-c4d33abb-ba9c-4a6f-a44a-1c2dd6640da1\", \"GameID\": \"gameid-4e5926e4-c7f8-4d10-ab5e-83cd23d3fd51\", \"Guess\": 50000, \"Timestamp\": \"2019-12-09T04:11:28.408265+00:00\", \"Won\": false, \"HigherLower\": \"Higher\"}\n"
          ],
          "name": "stdout"
        },
        {
          "output_type": "execute_result",
          "data": {
            "text/plain": [
              "200"
            ]
          },
          "metadata": {
            "tags": []
          },
          "execution_count": 38
        }
      ]
    },
    {
      "cell_type": "code",
      "metadata": {
        "id": "A6waV4CH15qX",
        "colab_type": "code",
        "outputId": "7ee6084d-ef2b-4e0e-f438-d40b17f9628b",
        "colab": {
          "base_uri": "https://localhost:8080/",
          "height": 153
        }
      },
      "source": [
        "parsed_json = (json.loads(jsondata))\n",
        "print(json.dumps(parsed_json, indent=4, sort_keys=True))"
      ],
      "execution_count": 0,
      "outputs": [
        {
          "output_type": "stream",
          "text": [
            "{\n",
            "    \"ApplicantID\": \"applid-c4d33abb-ba9c-4a6f-a44a-1c2dd6640da1\",\n",
            "    \"GameID\": \"gameid-4e5926e4-c7f8-4d10-ab5e-83cd23d3fd51\",\n",
            "    \"Guess\": 50000,\n",
            "    \"HigherLower\": \"Higher\",\n",
            "    \"Timestamp\": \"2019-12-09T04:11:28.408265+00:00\",\n",
            "    \"Won\": false\n",
            "}\n"
          ],
          "name": "stdout"
        }
      ]
    },
    {
      "cell_type": "code",
      "metadata": {
        "id": "H0oBloKIuCLJ",
        "colab_type": "code",
        "outputId": "48cb77a6-0596-4fc6-d543-e85cadf44d0e",
        "colab": {
          "base_uri": "https://localhost:8080/",
          "height": 34
        }
      },
      "source": [
        "parsed_json['Won']"
      ],
      "execution_count": 0,
      "outputs": [
        {
          "output_type": "execute_result",
          "data": {
            "text/plain": [
              "False"
            ]
          },
          "metadata": {
            "tags": []
          },
          "execution_count": 49
        }
      ]
    },
    {
      "cell_type": "code",
      "metadata": {
        "id": "wAZTgMTzBO9e",
        "colab_type": "code",
        "outputId": "24b3edfc-a135-4161-e73e-c7da92967e89",
        "colab": {
          "base_uri": "https://localhost:8080/",
          "height": 34
        }
      },
      "source": [
        "response = parsed_json['Won']\n",
        "print(response)"
      ],
      "execution_count": 0,
      "outputs": [
        {
          "output_type": "stream",
          "text": [
            "False\n"
          ],
          "name": "stdout"
        }
      ]
    },
    {
      "cell_type": "code",
      "metadata": {
        "id": "HWWHw8FNBYJC",
        "colab_type": "code",
        "outputId": "82800c07-d0a9-4f24-9062-c195c2397d61",
        "colab": {
          "base_uri": "https://localhost:8080/",
          "height": 105
        }
      },
      "source": [
        "import requests\n",
        "import json\n",
        "from requests.auth import HTTPBasicAuth\n",
        "\n",
        "url = \"https://game.eevi.life/guess\"\n",
        "auth = HTTPBasicAuth('eevi applicant', 'love to code')\n",
        "\n",
        "#desiredresponse = 'True'\n",
        "#adjust = True\n",
        "\n",
        "guess = 75000\n",
        "data = {\"ApplicantID\": \"applid-c4d33abb-ba9c-4a6f-a44a-1c2dd6640da1\", \"GameID\": \"gameid-4e5926e4-c7f8-4d10-ab5e-83cd23d3fd51\", \"Guess\": guess}\n",
        "r = requests.put(url, auth=HTTPBasicAuth('eevi applicant', 'love to code'), json=data)\n",
        "jsondata = (r.text)\n",
        "r.status_code\n",
        "print(jsondata)\n",
        "response = parsed_json['Won']\n",
        "adjust = parsed_json['HigherLower']\n",
        "print(response)\n",
        "print(adjust)\n",
        "\n",
        "desiredresponse = 'True'\n",
        "\n",
        "#while != True:\n",
        "    #work out the mathematics of guess to iterate to the right answer\n",
        "higher = 1000000\n",
        "lower = 75000\n",
        "submit = higher - lower\n",
        "\n",
        "data2 = {\"ApplicantID\": \"applid-c4d33abb-ba9c-4a6f-a44a-1c2dd6640da1\", \"GameID\": \"gameid-4e5926e4-c7f8-4d10-ab5e-83cd23d3fd51\", \"Guess\": submit}\n",
        "r2 = requests.put(url, auth=HTTPBasicAuth('eevi applicant', 'love to code'), json=data2)\n",
        "print(submit)\n"
      ],
      "execution_count": 0,
      "outputs": [
        {
          "output_type": "stream",
          "text": [
            "{\"ApplicantID\": \"applid-c4d33abb-ba9c-4a6f-a44a-1c2dd6640da1\", \"GameID\": \"gameid-4e5926e4-c7f8-4d10-ab5e-83cd23d3fd51\", \"Guess\": 75000, \"Timestamp\": \"2019-12-09T06:12:04.705661+00:00\", \"Won\": false, \"HigherLower\": \"Higher\"}\n",
            "False\n",
            "Higher\n",
            "925000\n"
          ],
          "name": "stdout"
        }
      ]
    },
    {
      "cell_type": "code",
      "metadata": {
        "id": "Aez9-JLkQ-kB",
        "colab_type": "code",
        "outputId": "fa9e1cca-f2e7-48e3-decb-70b54b7de7fd",
        "colab": {
          "base_uri": "https://localhost:8080/",
          "height": 51
        }
      },
      "source": [
        "#imports\n",
        "import requests\n",
        "import json\n",
        "from requests.auth import HTTPBasicAuth\n",
        "from itertools import count\n",
        "\n",
        "x = 0\n",
        "y = 1000000\n",
        "lower = x\n",
        "higher = y\n",
        "submit = higher - lower\n",
        "\n",
        "#build an iterator\n",
        "class checkRange:\n",
        "\n",
        "    def __init__(self, start, end):\n",
        "        self.value = start\n",
        "        self.end = end\n",
        "\n",
        "    def __iter__(self):\n",
        "        return self\n",
        "\n",
        "    def __next__(self):\n",
        "        if self.value >= self.end:\n",
        "            raise StopIteration\n",
        "        current = self.value\n",
        "        self.value += 1\n",
        "        return current\n",
        "\n",
        "#iterate through range with conditionals\n",
        "\n",
        "nums = checkRange(x, y)\n",
        "\n",
        "while guess != given_response: \n",
        "#initialise new game\n",
        "\n",
        "    url = \"https://game.eevi.life/guess\"\n",
        "    data3 = {\"ApplicantID\": \"applid-c4d33abb-ba9c-4a6f-a44a-1c2dd6640da1\", \"GameID\": \"gameid-4e5926e4-c7f8-4d10-ab5e-83cd23d3fd51\", \"Guess\": submit}\n",
        "    auth = HTTPBasicAuth('eevi applicant', 'love to code')\n",
        "    desiredresponse = True\n",
        "    guess = submit\n",
        "\n",
        "    if desiredresponse == False: \n",
        "        r3 = requests.put(url, auth=auth, json=data3)\n",
        "        json_data = (r3.text)\n",
        "        print(json_data)\n",
        "\n",
        "        given_response = parsed_json['Won']\n",
        "        adjust = parsed_json['HigherLower']\n",
        "        print(given_response)\n",
        "        print(adjust)\n",
        "        result = given_response\n",
        "        guess = result\n",
        "\n",
        "        desiredresponse = given_response\n",
        "  \n",
        "    elif adjust == \"Higher\":\n",
        "        lower = parsed_json['Guess']\n",
        "        submit = (higher + lower)/2\n",
        "        data4 = {\"ApplicantID\": \"applid-c4d33abb-ba9c-4a6f-a44a-1c2dd6640da1\", \"GameID\": \"gameid-4e5926e4-c7f8-4d10-ab5e-83cd23d3fd51\", \"Guess\": submit}\n",
        "        r4 = requests.put(url, auth=auth, json=data4)\n",
        "        json_data2 = (r4.text)\n",
        "\n",
        "        given_response = parsed_json['Won']\n",
        "        adjust = parsed_json['HigherLower']\n",
        "        print(given_response)\n",
        "        print(adjust)\n",
        "        result = given_response\n",
        "        guess = result\n",
        "\n",
        "        desiredresponse = given_response\n",
        "\n",
        "#insert text expression\n",
        "    elif adjust == \"Lower\":\n",
        "        higher = parsed_json['Guess']\n",
        "        submit = (higher - lower)/2\n",
        "        data5 = {\"ApplicantID\": \"applid-c4d33abb-ba9c-4a6f-a44a-1c2dd6640da1\", \"GameID\": \"gameid-4e5926e4-c7f8-4d10-ab5e-83cd23d3fd51\", \"Guess\": submit}\n",
        "        r5 = requests.put(url, auth=auth, json=data5)\n",
        "        json_data3 = (r5.text)\n",
        "\n",
        "        given_response = parsed_json['Won']\n",
        "        adjust = parsed_json['HigherLower']\n",
        "        print(adjust)\n",
        "        result = given_response\n",
        "        guess = result\n",
        "\n",
        "        desiredresponse = given_response\n",
        "\n",
        "# TS: think this will never execute. desiredresponse is set to True at the top,\n",
        "#     and never changed; so it will always go though the line \"if desiredresponse==True\"\n",
        "#     above, and never through this corresponding elif clause.  \n",
        "else:\n",
        "      answer = parsed_json['Guess']\n",
        "      print(\"The winning answer is :\")\n",
        "      print(answer)\n",
        "\n",
        "\n",
        "\n"
      ],
      "execution_count": 123,
      "outputs": [
        {
          "output_type": "stream",
          "text": [
            "The winning answer is :\n",
            "50000\n"
          ],
          "name": "stdout"
        }
      ]
    },
    {
      "cell_type": "markdown",
      "metadata": {
        "id": "MPp-7Om6eMdJ",
        "colab_type": "text"
      },
      "source": [
        "a foreach statement may be useful? Need to consider the logic \n",
        "\n",
        "TS: yes, you will certainly need a loop of some sort. I wouldn't go for a foreach myself; you want to loop until you've Won basically."
      ]
    }
  ]
}